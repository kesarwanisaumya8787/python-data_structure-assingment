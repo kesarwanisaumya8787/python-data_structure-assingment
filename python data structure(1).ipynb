{
 "cells": [
  {
   "cell_type": "code",
   "execution_count": 20,
   "id": "dd63a19c-e8e3-4289-aade-9a3862dbe6f4",
   "metadata": {},
   "outputs": [
    {
     "data": {
      "text/plain": [
       "'My name is saumya kesarwani'"
      ]
     },
     "execution_count": 20,
     "metadata": {},
     "output_type": "execute_result"
    }
   ],
   "source": [
    "#1 Discuss string slicing and provide examples?\n",
    "\n",
    "#String slicing is a powerful feature in many programming languages, including Python, that allows you to extract a portion\n",
    "#of a string based on its indices. This is done using a syntax that involves specifying a starting index, an ending index,\n",
    "#and an optional step.\n",
    "\n",
    "#string is immutable but modify or replace the characters.\n",
    "\n",
    "#Here's some examples of string slicing:\n",
    "\n",
    "string1= 'My name is saumya kesarwani'\n",
    "string1[0:]   #start_index: end_index >> if you not provide end index ,it will be by default give substring \n",
    "              #till the last index "
   ]
  },
  {
   "cell_type": "code",
   "execution_count": 21,
   "id": "8b2e5de4-6bf2-4e7f-b745-d72893e154a0",
   "metadata": {},
   "outputs": [
    {
     "data": {
      "text/plain": [
       "'saumya kesarwani'"
      ]
     },
     "execution_count": 21,
     "metadata": {},
     "output_type": "execute_result"
    }
   ],
   "source": [
    "string1[11:]  #if you want to specific character use index number, space is also countable."
   ]
  },
  {
   "cell_type": "code",
   "execution_count": 22,
   "id": "d6be43e8-e5da-487f-b543-d0fd25e50330",
   "metadata": {},
   "outputs": [
    {
     "data": {
      "text/plain": [
       "'name '"
      ]
     },
     "execution_count": 22,
     "metadata": {},
     "output_type": "execute_result"
    }
   ],
   "source": [
    "string1[3:8]"
   ]
  },
  {
   "cell_type": "code",
   "execution_count": 23,
   "id": "cbd96df8-c09a-49ce-aee3-53fb4105149d",
   "metadata": {},
   "outputs": [
    {
     "data": {
      "text/plain": [
       "'My name is saumya'"
      ]
     },
     "execution_count": 23,
     "metadata": {},
     "output_type": "execute_result"
    }
   ],
   "source": [
    "# negative index examples\n",
    "string1[:-10]\n"
   ]
  },
  {
   "cell_type": "code",
   "execution_count": 24,
   "id": "83e8c41d-1770-493d-af33-e67d8a748291",
   "metadata": {},
   "outputs": [
    {
     "data": {
      "text/plain": [
       "'HELLO WORLD'"
      ]
     },
     "execution_count": 24,
     "metadata": {},
     "output_type": "execute_result"
    }
   ],
   "source": [
    "string2= 'HELLO WORLD'\n",
    "string2"
   ]
  },
  {
   "cell_type": "code",
   "execution_count": 25,
   "id": "b5dfe715-8ffe-4b2b-b33f-b6966cbc5c7c",
   "metadata": {},
   "outputs": [
    {
     "data": {
      "text/plain": [
       "'HELLO'"
      ]
     },
     "execution_count": 25,
     "metadata": {},
     "output_type": "execute_result"
    }
   ],
   "source": [
    "string2[0:5:1]"
   ]
  },
  {
   "cell_type": "code",
   "execution_count": 26,
   "id": "b92fe4ba-5ea0-41ad-95e1-e8185a7531e2",
   "metadata": {},
   "outputs": [
    {
     "data": {
      "text/plain": [
       "'HLO'"
      ]
     },
     "execution_count": 26,
     "metadata": {},
     "output_type": "execute_result"
    }
   ],
   "source": [
    "string2[0:5:2]  # every 2nd letter skips.\n"
   ]
  },
  {
   "cell_type": "code",
   "execution_count": 27,
   "id": "076d1c79-9970-4336-a78a-915ed6fdc405",
   "metadata": {},
   "outputs": [
    {
     "data": {
      "text/plain": [
       "'HLOWRD'"
      ]
     },
     "execution_count": 27,
     "metadata": {},
     "output_type": "execute_result"
    }
   ],
   "source": [
    "string2[::2]"
   ]
  },
  {
   "cell_type": "code",
   "execution_count": 28,
   "id": "5f37d90e-5127-4672-84c5-2a74a9bede86",
   "metadata": {},
   "outputs": [
    {
     "data": {
      "text/plain": [
       "'DLROW OLLEH'"
      ]
     },
     "execution_count": 28,
     "metadata": {},
     "output_type": "execute_result"
    }
   ],
   "source": [
    "string2[::-1]   # reverse all the characters."
   ]
  },
  {
   "cell_type": "code",
   "execution_count": 29,
   "id": "ccd12eae-2f9c-4ea3-a596-73e8f690620d",
   "metadata": {},
   "outputs": [
    {
     "data": {
      "text/plain": [
       "27"
      ]
     },
     "execution_count": 29,
     "metadata": {},
     "output_type": "execute_result"
    }
   ],
   "source": [
    "#number of characters.\n",
    "len(string1)"
   ]
  },
  {
   "cell_type": "code",
   "execution_count": 30,
   "id": "b74642c2-2363-41c4-9435-617139e4db45",
   "metadata": {},
   "outputs": [
    {
     "data": {
      "text/plain": [
       "11"
      ]
     },
     "execution_count": 30,
     "metadata": {},
     "output_type": "execute_result"
    }
   ],
   "source": [
    "len(string2)"
   ]
  },
  {
   "cell_type": "code",
   "execution_count": 31,
   "id": "eaa1422b-70ed-4297-a0a7-ee173270bc4f",
   "metadata": {},
   "outputs": [
    {
     "data": {
      "text/plain": [
       "'M'"
      ]
     },
     "execution_count": 31,
     "metadata": {},
     "output_type": "execute_result"
    }
   ],
   "source": [
    "string1[0] #index "
   ]
  },
  {
   "cell_type": "code",
   "execution_count": 32,
   "id": "bc3d04c2-1672-4052-be50-3d8200861062",
   "metadata": {},
   "outputs": [
    {
     "data": {
      "text/plain": [
       "'H'"
      ]
     },
     "execution_count": 32,
     "metadata": {},
     "output_type": "execute_result"
    }
   ],
   "source": [
    "string2[0]"
   ]
  },
  {
   "cell_type": "code",
   "execution_count": 8,
   "id": "8e466a31-62e2-47f8-a22f-80226f22acda",
   "metadata": {},
   "outputs": [
    {
     "name": "stdout",
     "output_type": "stream",
     "text": [
      "1\n",
      "c\n",
      "[3, 'a', 'b']\n",
      "[1, 2, 3, 'a', 'b', 'c', 4]\n",
      "[1, 2, 3, 'x', 'b', 'c', 4]\n",
      "[1, 2, 3, 'x', 'b', 'c']\n"
     ]
    }
   ],
   "source": [
    "#2 Explain the key features of lists in Python?\n",
    "\n",
    "\n",
    "#In Python, lists are one of the most commonly used data structures. They are versatile and offer several key features:\n",
    "\n",
    "   #a- Ordered Collection: the items have a defined order, and we can access them by their indices.\n",
    "\n",
    "   #b- Mutable: we can change, add, or remove elements after the list has been created. \n",
    "\n",
    "   #c- Heterogeneous Elements: A single list can contain elements of different types, including integers, strings, floats,\n",
    "   #   and even other lists.\n",
    "\n",
    "   #d- Accessing Element : can be accessed using square brackets [ ] with indices starting from 0.\n",
    "   #   Negative indices count from the end of the list (-1 refers to the last element).\n",
    "\n",
    "   #e- Slicing:  support slicing to create new sublists. This allows to efficiently access portions of the list using the \n",
    "   #   syntax- list[start:end:step].\n",
    "\n",
    "   #f- Methods: Lists come with a variety of built-in methods like .append(), .extend(), .insert(), .remove(), .pop(),\n",
    "   #   .index(), .count(), .sort(), and. reverse() among others, which make it easier to manipulate the list.\n",
    "\n",
    "   #g- Iterability: we can loop over the elements using a for loop or comprehensions.\n",
    "\n",
    "  #    SOME EXAMPLES- \n",
    "\n",
    "\n",
    "my_list = [1, 2, 3, 'a', 'b', 'c']\n",
    "\n",
    "# Accessing elements\n",
    "print(my_list[0])  # Output: 1\n",
    "print(my_list[-1])  # Output: 'c'\n",
    "\n",
    "# Slicing\n",
    "print(my_list[2:5])  # Output: [3, 'a', 'b']\n",
    "\n",
    "# Mutable operations\n",
    "my_list.append(4)  # Adding an element\n",
    "print(my_list)  # Output: [1, 2, 3, 'a', 'b', 'c', 4]\n",
    "\n",
    "my_list[3] = 'x'  # Modifying an element\n",
    "print(my_list)  # Output: [1, 2, 3, 'x', 'b', 'c', 4]\n",
    "\n",
    "my_list.pop()  # Removing the last element\n",
    "print(my_list)  # Output: [1, 2, 3, 'x', 'b', 'c']\n"
   ]
  },
  {
   "cell_type": "code",
   "execution_count": null,
   "id": "fd3df486-994c-45b4-acb4-99784e65dd9d",
   "metadata": {},
   "outputs": [],
   "source": [
    "#These features make lists powerful and versatile for a wide range of programming tasks in Python."
   ]
  },
  {
   "cell_type": "code",
   "execution_count": 9,
   "id": "310f8b04-0c58-4213-ab0d-37b1397ea61d",
   "metadata": {},
   "outputs": [
    {
     "name": "stdout",
     "output_type": "stream",
     "text": [
      "apple\n",
      "cherry\n",
      "date\n",
      "banana\n",
      "['banana', 'cherry']\n",
      "[10, 25, 30, 40]\n",
      "[10, 25, 35, 45]\n",
      "['a', 'c', 'd']\n",
      "['d']\n",
      "3\n",
      "[1, 2, 4]\n",
      "4\n",
      "[1, 2]\n",
      "['apple', 'cherry', 'date']\n"
     ]
    }
   ],
   "source": [
    "#3 Describe how to access, modify, and delete elements in a list with examples?\n",
    "\n",
    "\n",
    "\n",
    "\n",
    "# Here's a explanation of how to access, modify, and delete elements in a Python list, along with examples for each\n",
    "# operation.\n",
    "\n",
    "# SOME EXAMPLES:\n",
    "\n",
    "#A. Accessing Elements:-\n",
    "\n",
    "# We can access elements in a list using indexing ,python uses zero-based indexing, which means the first element has an \n",
    "# index of 0, the second element has an index of 1, and so on, negative indices can be used to access elements from the \n",
    "# end of the list.\n",
    "\n",
    "my_list = ['apple', 'banana', 'cherry', 'date']\n",
    "\n",
    "# Accessing elements using positive indices\n",
    "print(my_list[0])  # Output: apple\n",
    "print(my_list[2])  # Output: cherry\n",
    "\n",
    "# Accessing elements using negative indices\n",
    "print(my_list[-1])  # Output: date\n",
    "print(my_list[-3])  # Output: banana\n",
    "\n",
    "# Accessing a slice of the list\n",
    "print(my_list[1:3])  # Output: ['banana', 'cherry']\n",
    "\n",
    "#B. Modifying Elements:-\n",
    "\n",
    "# To modify elements in a list, we assign a new value to the specific index of the list,we can also use slicing to modify \n",
    "# multiple elements at once.\n",
    "\n",
    "\n",
    "my_list = [10, 20, 30, 40]\n",
    "\n",
    "# Modifying a single element\n",
    "my_list[1] = 25\n",
    "print(my_list)  # Output: [10, 25, 30, 40]\n",
    "\n",
    "# Modifying multiple elements using slicing\n",
    "my_list[2:4] = [35, 45]\n",
    "print(my_list)  # Output: [10, 25, 35, 45]\n",
    "\n",
    "#C. Deleting Elements:-\n",
    "\n",
    "#   we can delete elements from a list using several methods, including: del, .pop(), and .remove().\n",
    "\n",
    "#  using del: Deletes an element at a specific index or an entire slice of elements.\n",
    "\n",
    "\n",
    "my_list = ['a', 'b', 'c', 'd']\n",
    "\n",
    "# Deleting a single element\n",
    "del my_list[1]\n",
    "print(my_list)  # Output: ['a', 'c', 'd']\n",
    "\n",
    "# Deleting a slice of elements\n",
    "del my_list[0:2]\n",
    "print(my_list)  # Output: ['d']\n",
    "\n",
    "# Using .pop(): removes and returns the element at a specific index,if no index is specified, it removes and returns \n",
    "# the last element.\n",
    "\n",
    "\n",
    "my_list = [1, 2, 3, 4]\n",
    "\n",
    "# Removing and returning an element at a specific index\n",
    "removed_element = my_list.pop(2)\n",
    "print(removed_element)  # Output: 3\n",
    "print(my_list)  # Output: [1, 2, 4]\n",
    "\n",
    "# Removing and returning the last element\n",
    "last_element = my_list.pop()\n",
    "print(last_element)  # Output: 4\n",
    "print(my_list)  # Output: [1, 2]\n",
    "\n",
    "#Using .remove(): removes the first occurrence of a specific value. If the value is not found, it raises a ValueError.\n",
    "\n",
    "\n",
    "my_list = ['apple', 'banana', 'cherry', 'date']\n",
    "\n",
    "# Removing the first occurrence of a specific value\n",
    "my_list.remove('banana')\n",
    "print(my_list)  # Output: ['apple', 'cherry', 'date']\n"
   ]
  },
  {
   "cell_type": "code",
   "execution_count": 10,
   "id": "670fa6ac-caa2-43e9-a84f-a576c820c24a",
   "metadata": {},
   "outputs": [],
   "source": [
    "# Trying to remove a value that does not exist will raise a ValueError\n",
    "    # my_list.remove('orange')  >> This line would raise ValueError:- list.remove(x): x not in list\n",
    "\n",
    "# Summary:-\n",
    "\n",
    "   # Accessing Elements:- use indices to retrieve elements. Positive indices start from 0, and negative indices start\n",
    "       #from -1 for the last element.\n",
    "   # Modifying Elements:- assign new values to specific indices or use slicing to modify multiple elements at once.\n",
    "   # Deleting Elements: use del to remove elements by index or slice, .pop() to remove and return elements, or .remove() \n",
    "       #to delete elements by value."
   ]
  },
  {
   "cell_type": "code",
   "execution_count": 1,
   "id": "9389f71d-870b-4397-8a27-b0c1d21f9b56",
   "metadata": {},
   "outputs": [
    {
     "name": "stdout",
     "output_type": "stream",
     "text": [
      "1\n",
      "b\n"
     ]
    }
   ],
   "source": [
    "#4 Compare and contrast tuples and lists with examples?\n",
    "\n",
    "\n",
    "# Tuples and lists are both fundamental data structures in Python, but they have distinct characteristics that make \n",
    "   #them suitable for different use cases.\n",
    "\n",
    "# Here's a comparison between tuples and lists with examples:\n",
    "#      TUPLES:\n",
    "\n",
    " # Immutable:  cannot be changed after creation.\n",
    " # Faster Access: Accessing elements in a tuple is generally faster than in a list because tuples are stored in a \n",
    "    #single block of memory.\n",
    " # Syntax:- Tuples are defined using parentheses ().\n",
    "\n",
    "# Example of tuples:\n",
    "\n",
    "tuple1 = (1, 2, 3, 4)\n",
    "tuple2 = ('a', 'b', 'c')\n",
    "tuple3 = ()  # Empty tuple\n",
    "tuple4 = (5,)  # Single-element tuple (note the trailing comma)\n",
    "\n",
    "# Accessing elements in a tuple\n",
    "print(tuple1[0])  # Output: 1\n",
    "print(tuple2[1])  # Output: 'b'\n"
   ]
  },
  {
   "cell_type": "code",
   "execution_count": 2,
   "id": "53275bc7-4b5c-4470-b2d1-605384331614",
   "metadata": {},
   "outputs": [
    {
     "name": "stdout",
     "output_type": "stream",
     "text": [
      "1\n",
      "banana\n",
      "[1, 2, 3, 4, 5]\n",
      "['orange', 'banana', 'cherry']\n",
      "[2, 3]\n",
      "[0, 2, 4, 6, 8]\n"
     ]
    }
   ],
   "source": [
    "#     LISTS:\n",
    "\n",
    "  # Mutable: can be changed after creation.\n",
    "  # Slower Access: Accessing elements in a list is slightly slower compared to tuples because lists use more memory\n",
    "     #and may require more indirections.\n",
    "  # Syntax:- Lists are defined using square brackets [].\n",
    "\n",
    "# Example of lists:\n",
    "\n",
    "list1 = [1, 2, 3, 4]\n",
    "list2 = ['apple', 'banana', 'cherry']\n",
    "list3 = []  # Empty list\n",
    "list4 = [5]  # Single-element list\n",
    "\n",
    "# Accessing elements in a list\n",
    "print(list1[0])  # Output: 1\n",
    "print(list2[1])  # Output: 'banana'\n",
    "\n",
    "# Modifying lists\n",
    "list1.append(5)  # Adding an element\n",
    "list2[0] = 'orange'  # Changing an element\n",
    "print(list1)  # Output: [1, 2, 3, 4, 5]\n",
    "print(list2)  # Output: ['orange', 'banana', 'cherry']\n",
    "\n",
    "# List slicing\n",
    "print(list1[1:3])  # Output: [2, 3]\n",
    "\n",
    "# List comprehension\n",
    "list5 = [x for x in range(10) if x % 2 == 0]\n",
    "print(list5)  # Output: [0, 2, 4, 6, 8]\n"
   ]
  },
  {
   "cell_type": "code",
   "execution_count": 5,
   "id": "2fe70767-1aac-4130-86a9-711441ec22f8",
   "metadata": {},
   "outputs": [],
   "source": [
    "# COMPARISION:\n",
    "\n",
    "    # Usage: Tuples are often used for heterogeneous data where immutability is desired, such as coordinates, \n",
    "      #database records, or function return values. Lists are used when there is a need for mutable sequences, \n",
    "      #such as collections of similar items or when the size of the collection may change.\n",
    "\n",
    "    # Performance: Tuples generally have better performance for iteration and accessing elements due to their immutable \n",
    "      #nature and memory layout. Lists are better suited for scenarios where elements need to be added, removed, or modified\n",
    "      #frequently.\n",
    "\n",
    "    # Syntax: The syntax for tuples and lists is different, which can affect readability and understanding of code.\n",
    "\n",
    "#IN SUMMARY, choose tuples when we have data that shouldn't change, or when we want to ensure data integrity, and choose \n",
    "    #lists when we need a collection that can be modified, appended to, or extended.\n"
   ]
  },
  {
   "cell_type": "code",
   "execution_count": 11,
   "id": "46de3e37-6e44-4db3-ad13-9a8a66ef1df7",
   "metadata": {},
   "outputs": [
    {
     "name": "stdout",
     "output_type": "stream",
     "text": [
      "{'orange', 'cherry', 'banana', 'apple'}\n",
      "{1, 2, 4, 5}\n",
      "{'orange', 'cherry', 'apple'}\n"
     ]
    }
   ],
   "source": [
    "#5 Describe the key features of sets and provide examples of their use?\n",
    "\n",
    "#Sets in Python are unordered collections of unique elements. Here are the key features of sets and examples of their use:\n",
    "#Key Features of Sets:\n",
    "\n",
    "   # Uniqueness: Sets do not allow duplicate elements. If you try to add an element that already exists in the set, \n",
    "       #it won't be added again.\n",
    "   #Unordered: Elements in a set are not stored in any particular order. This means you cannot access elements in a \n",
    "        #set by index.\n",
    "   # Mutable: Sets are mutable, meaning you can add or remove elements after the set is created.\n",
    "   # Operations: Sets support mathematical set operations like union, intersection, difference, and symmetric difference.\n",
    "   #Syntax: Sets are defined using curly braces {} or the set() function\n",
    "\n",
    "\n",
    "#Examples of Sets:\n",
    "\n",
    "set1 = {1, 2, 3, 4, 5}\n",
    "set2 = {'apple', 'banana', 'cherry'}\n",
    "set3 = set()  # Empty set\n",
    "\n",
    "# Note: You cannot create an empty set using {} because it will create an empty dict\n",
    "\n",
    "#a:- Adding and Removing Elements:\n",
    "\n",
    "# Adding elements to a set\n",
    "set2.add('orange')\n",
    "print(set2)  # Output: {'banana', 'cherry', 'orange', 'apple'}\n",
    "\n",
    "# Removing elements from a set\n",
    "set1.remove(3)\n",
    "print(set1)  # Output: {1, 2, 4, 5}\n",
    "\n",
    "# Discarding an element (does not raise an error if element does not exist)\n",
    "set2.discard('banana')\n",
    "print(set2)  # Output: {'cherry', 'orange', 'apple'}\n",
    "\n"
   ]
  },
  {
   "cell_type": "code",
   "execution_count": 12,
   "id": "45319aa5-bad4-4fd1-9ca4-f0e79cfb43c4",
   "metadata": {},
   "outputs": [
    {
     "name": "stdout",
     "output_type": "stream",
     "text": [
      "{1, 2, 3, 4, 5, 6}\n",
      "{3, 4}\n",
      "{1, 2}\n",
      "{1, 2, 5, 6}\n"
     ]
    }
   ],
   "source": [
    "#b:- Set Operations:\n",
    "\n",
    "set_A = {1, 2, 3, 4}\n",
    "set_B = {3, 4, 5, 6}\n",
    "\n",
    "# Union of sets\n",
    "union_set = set_A | set_B\n",
    "print(union_set)  # Output: {1, 2, 3, 4, 5, 6}\n",
    "\n",
    "# Intersection of sets\n",
    "intersection_set = set_A & set_B\n",
    "print(intersection_set)  # Output: {3, 4}\n",
    "\n",
    "# Difference of sets\n",
    "difference_set = set_A - set_B\n",
    "print(difference_set)  # Output: {1, 2}\n",
    "\n",
    "# Symmetric difference of sets\n",
    "symmetric_difference_set = set_A ^ set_B\n",
    "print(symmetric_difference_set)  # Output: {1, 2, 5, 6}\n",
    "\n"
   ]
  },
  {
   "cell_type": "code",
   "execution_count": 13,
   "id": "8c1d9710-fe49-4dee-8f69-afa32a996f96",
   "metadata": {},
   "outputs": [
    {
     "name": "stdout",
     "output_type": "stream",
     "text": [
      "Chicago\n",
      "New York\n",
      "Los Angeles\n"
     ]
    }
   ],
   "source": [
    "#c:- Iterating through a Set:\n",
    "\n",
    "set_cities = {'New York', 'Los Angeles', 'Chicago'}\n",
    "\n",
    "for city in set_cities:\n",
    "    print(city)\n",
    "\n",
    "# Output:\n",
    "# Los Angeles\n",
    "# New York\n",
    "# Chicago"
   ]
  },
  {
   "cell_type": "code",
   "execution_count": 14,
   "id": "407296f6-e0a3-43f7-a4b1-1f7afb5f3e9f",
   "metadata": {},
   "outputs": [],
   "source": [
    "#Use Cases for Sets:\n",
    "\n",
    " # Removing Duplicates: Since sets automatically handle duplicates, they are useful for filtering out duplicate values\n",
    "         #from other collections.\n",
    " # Membership Testing: Checking if an element exists in a set is very efficient compared to lists or tuples, \n",
    "          #especially for large collections\n",
    " # Mathematical Operations: Sets are ideal for performing operations like union, intersection, and difference,\n",
    "          #which are common in mathematical and data manipulation tasks\n",
    " # Data Deduplication: Sets can be used to quickly deduplicate a list of elements.\n",
    "\n",
    "# In summary, sets in Python provide a powerful way to manage collections of unique elements efficiently, \n",
    "          #leveraging their unique properties and built-in operations for various tasks."
   ]
  },
  {
   "cell_type": "code",
   "execution_count": 4,
   "id": "798d87bc-beab-482c-b397-307823ae8ab2",
   "metadata": {},
   "outputs": [
    {
     "data": {
      "text/plain": [
       "tuple"
      ]
     },
     "execution_count": 4,
     "metadata": {},
     "output_type": "execute_result"
    }
   ],
   "source": [
    "#6 Discuss the use cases of tuples and sets in Python programming?\n",
    "\n",
    "# Tuples and sets are both useful data structures in Python, each with distinct characteristics that make them suitable \n",
    "      #for different use cases. Here’s a discussion of their typical use cases:\n",
    "    \n",
    " #USE CASES OF TUPLES:\n",
    "\n",
    "\n",
    "# a:-Immutable Data >> their elements cannot be changed after creation. This property makes tuples suitable for representing\n",
    "    #fixed collections of items that are not meant to be modified.\n",
    "\n",
    "#Example: \n",
    "#for coordinates\n",
    "point1 = (3, 5) #syntax : ()\n",
    "point2 = (5, 6)\n",
    "point3 = (6, 7)\n",
    "type(point1)\n",
    "\n",
    "\n",
    "#  b:- Heterogenous >> includes str,int,bool,complex.\n",
    "#  c:- Ordered collection >> can be stored any datatypes."
   ]
  },
  {
   "cell_type": "code",
   "execution_count": 6,
   "id": "87449dd4-c539-40f3-a14c-c91595a532e6",
   "metadata": {},
   "outputs": [
    {
     "data": {
      "text/plain": [
       "('saumya kesarwani', 1, 3.5, (2+5j))"
      ]
     },
     "execution_count": 6,
     "metadata": {},
     "output_type": "execute_result"
    }
   ],
   "source": [
    "tuple = ('saumya kesarwani', 1,3.5,2+5j)\n",
    "tuple"
   ]
  },
  {
   "cell_type": "code",
   "execution_count": 7,
   "id": "7dee4c0a-fb95-4ef2-839a-39092f58bb4d",
   "metadata": {},
   "outputs": [
    {
     "data": {
      "text/plain": [
       "1"
      ]
     },
     "execution_count": 7,
     "metadata": {},
     "output_type": "execute_result"
    }
   ],
   "source": [
    "tuple[1]"
   ]
  },
  {
   "cell_type": "code",
   "execution_count": 8,
   "id": "7268179d-3b2e-460c-9a1e-71a095c63a19",
   "metadata": {},
   "outputs": [
    {
     "ename": "TypeError",
     "evalue": "'tuple' object does not support item assignment",
     "output_type": "error",
     "traceback": [
      "\u001b[0;31m---------------------------------------------------------------------------\u001b[0m",
      "\u001b[0;31mTypeError\u001b[0m                                 Traceback (most recent call last)",
      "Cell \u001b[0;32mIn[8], line 1\u001b[0m\n\u001b[0;32m----> 1\u001b[0m \u001b[38;5;28;43mtuple\u001b[39;49m\u001b[43m[\u001b[49m\u001b[38;5;241;43m1\u001b[39;49m\u001b[43m]\u001b[49m\u001b[38;5;241m=\u001b[39m\u001b[38;5;241m5\u001b[39m     \u001b[38;5;66;03m#error because it is immutable doesn't change after creation.\u001b[39;00m\n",
      "\u001b[0;31mTypeError\u001b[0m: 'tuple' object does not support item assignment"
     ]
    }
   ],
   "source": [
    "tuple[1]=5     #error because it is immutable doesn't change after creation."
   ]
  },
  {
   "cell_type": "code",
   "execution_count": 16,
   "id": "3cf70995-b67f-4ffd-831d-773ec8b3a61c",
   "metadata": {},
   "outputs": [
    {
     "name": "stdout",
     "output_type": "stream",
     "text": [
      "d\n",
      "a\n",
      "i\n",
      "r\n",
      "y\n",
      "_\n",
      "m\n",
      "i\n",
      "l\n",
      "k\n",
      "saumya kesarwani\n",
      "1\n",
      "3.5\n",
      "(2+5j)\n"
     ]
    }
   ],
   "source": [
    "# d:- iteration >> we can iterate things\n",
    "box1=(\"dairy_milk\")\n",
    "box2=(\"chocobar\")\n",
    "box3=(\"five_star\")\n",
    "for i in box1:\n",
    "    print(i)\n",
    "\n",
    "for i in tuple:\n",
    "    print(i)"
   ]
  },
  {
   "cell_type": "code",
   "execution_count": 12,
   "id": "57d89143-9b04-40d0-a755-3af36c779a76",
   "metadata": {},
   "outputs": [
    {
     "data": {
      "text/plain": [
       "('saumya kesarwani',)"
      ]
     },
     "execution_count": 12,
     "metadata": {},
     "output_type": "execute_result"
    }
   ],
   "source": [
    "#slicing \n",
    "tuple[0:1]"
   ]
  },
  {
   "cell_type": "code",
   "execution_count": 13,
   "id": "20318313-e939-4bf3-9bc7-10d78fe3766a",
   "metadata": {},
   "outputs": [
    {
     "data": {
      "text/plain": [
       "((2+5j), 3.5, 1, 'saumya kesarwani')"
      ]
     },
     "execution_count": 13,
     "metadata": {},
     "output_type": "execute_result"
    }
   ],
   "source": [
    "# reverse the elements\n",
    "tuple[::-1] "
   ]
  },
  {
   "cell_type": "code",
   "execution_count": 21,
   "id": "c47f3de4-d217-445f-83b0-1d25256c0697",
   "metadata": {},
   "outputs": [
    {
     "data": {
      "text/plain": [
       "0"
      ]
     },
     "execution_count": 21,
     "metadata": {},
     "output_type": "execute_result"
    }
   ],
   "source": [
    " #to know maximum no. and minimum no.\n",
    "    \n",
    "t= 1,2,3,4,5,0,7.8,10004\n",
    "min(t)"
   ]
  },
  {
   "cell_type": "code",
   "execution_count": 22,
   "id": "d9ab1277-2a73-4204-9cae-c92aed69199b",
   "metadata": {},
   "outputs": [
    {
     "data": {
      "text/plain": [
       "10004"
      ]
     },
     "execution_count": 22,
     "metadata": {},
     "output_type": "execute_result"
    }
   ],
   "source": [
    "max(t)"
   ]
  },
  {
   "cell_type": "code",
   "execution_count": 24,
   "id": "2f2bb4f3-8f56-4f7f-a875-9d6e5f79c31a",
   "metadata": {},
   "outputs": [
    {
     "data": {
      "text/plain": [
       "('saumya', 'kesarwani')"
      ]
     },
     "execution_count": 24,
     "metadata": {},
     "output_type": "execute_result"
    }
   ],
   "source": [
    "t1= (\"saumya\")\n",
    "t2= (\"kesarwani\")\n",
    "t3= (t1,t2)      # nested tuples >> tuple inside tuple\n",
    "t3                    \n"
   ]
  },
  {
   "cell_type": "code",
   "execution_count": 25,
   "id": "36e523b5-ab62-4809-9062-6fb1ec8cc47a",
   "metadata": {},
   "outputs": [
    {
     "ename": "NameError",
     "evalue": "name 't3' is not defined",
     "output_type": "error",
     "traceback": [
      "\u001b[0;31m---------------------------------------------------------------------------\u001b[0m",
      "\u001b[0;31mNameError\u001b[0m                                 Traceback (most recent call last)",
      "Cell \u001b[0;32mIn[25], line 2\u001b[0m\n\u001b[1;32m      1\u001b[0m \u001b[38;5;28;01mdel\u001b[39;00m(t3)\n\u001b[0;32m----> 2\u001b[0m \u001b[43mt3\u001b[49m      \u001b[38;5;66;03m#error \u001b[39;00m\n",
      "\u001b[0;31mNameError\u001b[0m: name 't3' is not defined"
     ]
    }
   ],
   "source": [
    "del(t3)\n",
    "t3      #error >> t3 is not defined."
   ]
  },
  {
   "cell_type": "code",
   "execution_count": 28,
   "id": "193ad8cd-375d-42e1-83a0-6e43350e48af",
   "metadata": {},
   "outputs": [
    {
     "data": {
      "text/plain": [
       "'saumya'"
      ]
     },
     "execution_count": 28,
     "metadata": {},
     "output_type": "execute_result"
    }
   ],
   "source": [
    "len(t1)     # want to lenth.\n",
    "t1"
   ]
  },
  {
   "cell_type": "code",
   "execution_count": 29,
   "id": "9d6d560d-0529-4986-a7cf-1288e1475436",
   "metadata": {},
   "outputs": [
    {
     "data": {
      "text/plain": [
       "True"
      ]
     },
     "execution_count": 29,
     "metadata": {},
     "output_type": "execute_result"
    }
   ],
   "source": [
    "# element present or not >> if present- True, if not present-False\n",
    "\"saumya\" in t1"
   ]
  },
  {
   "cell_type": "code",
   "execution_count": 30,
   "id": "50c306f4-c1b4-4d7c-bd12-8ad90cd68fc0",
   "metadata": {},
   "outputs": [
    {
     "data": {
      "text/plain": [
       "False"
      ]
     },
     "execution_count": 30,
     "metadata": {},
     "output_type": "execute_result"
    }
   ],
   "source": [
    "\"saumya\" in t2\n"
   ]
  },
  {
   "cell_type": "code",
   "execution_count": 31,
   "id": "d3dcf86a-4f2f-4016-bb2a-48eea6ef28af",
   "metadata": {},
   "outputs": [
    {
     "data": {
      "text/plain": [
       "'saumyakesarwani'"
      ]
     },
     "execution_count": 31,
     "metadata": {},
     "output_type": "execute_result"
    }
   ],
   "source": [
    "#concatenation >> combine the elements.\n",
    "t1+t2\n"
   ]
  },
  {
   "cell_type": "code",
   "execution_count": 32,
   "id": "45b6e545-63e5-476a-9a4a-028c0ee9010e",
   "metadata": {},
   "outputs": [
    {
     "data": {
      "text/plain": [
       "set"
      ]
     },
     "execution_count": 32,
     "metadata": {},
     "output_type": "execute_result"
    }
   ],
   "source": [
    "# USE CASES OF SETS:\n",
    "\n",
    "# mutable >> we can change things after creation\n",
    "s={1,'saumya', 3.5}\n",
    "type(s)"
   ]
  },
  {
   "cell_type": "code",
   "execution_count": 42,
   "id": "f3c3069f-0e69-480f-9c6a-15f96dd93048",
   "metadata": {},
   "outputs": [
    {
     "ename": "TypeError",
     "evalue": "unhashable type: 'set'",
     "output_type": "error",
     "traceback": [
      "\u001b[0;31m---------------------------------------------------------------------------\u001b[0m",
      "\u001b[0;31mTypeError\u001b[0m                                 Traceback (most recent call last)",
      "Cell \u001b[0;32mIn[42], line 1\u001b[0m\n\u001b[0;32m----> 1\u001b[0m s\u001b[38;5;241m=\u001b[39m{\u001b[38;5;241m1\u001b[39m,\u001b[38;5;241m2\u001b[39m,\u001b[38;5;241m3\u001b[39m,{\u001b[38;5;241m5\u001b[39m,\u001b[38;5;241m6\u001b[39m,\u001b[38;5;241m7\u001b[39m}}    \n\u001b[1;32m      2\u001b[0m s\u001b[38;5;66;03m# ERROR >> set inside set must be immutable >> unhashable type\u001b[39;00m\n",
      "\u001b[0;31mTypeError\u001b[0m: unhashable type: 'set'"
     ]
    }
   ],
   "source": [
    "s={1,2,3,{5,6,7}}     # ERROR >> set inside set must be immutable >> unhashable type\n",
    "s"
   ]
  },
  {
   "cell_type": "code",
   "execution_count": 41,
   "id": "680f1e4c-d446-4e1b-9d8d-5b56990d5bba",
   "metadata": {},
   "outputs": [
    {
     "ename": "TypeError",
     "evalue": "unhashable type: 'list'",
     "output_type": "error",
     "traceback": [
      "\u001b[0;31m---------------------------------------------------------------------------\u001b[0m",
      "\u001b[0;31mTypeError\u001b[0m                                 Traceback (most recent call last)",
      "Cell \u001b[0;32mIn[41], line 1\u001b[0m\n\u001b[0;32m----> 1\u001b[0m s\u001b[38;5;241m=\u001b[39m{\u001b[38;5;241m1\u001b[39m,\u001b[38;5;241m2\u001b[39m,\u001b[38;5;241m3\u001b[39m,[\u001b[38;5;241m5\u001b[39m,\u001b[38;5;241m6\u001b[39m,\u001b[38;5;241m7\u001b[39m]}  \n\u001b[1;32m      2\u001b[0m s\u001b[38;5;66;03m# ERROR >> set inside list must be immutable >> unhashable type\u001b[39;00m\n",
      "\u001b[0;31mTypeError\u001b[0m: unhashable type: 'list'"
     ]
    }
   ],
   "source": [
    "s={1,2,3,[5,6,7]}       # ERROR >> set inside list must be immutable >> unhashable type\n",
    "s"
   ]
  },
  {
   "cell_type": "code",
   "execution_count": 40,
   "id": "97a17cbf-757a-4157-a6f1-56d81904f245",
   "metadata": {},
   "outputs": [
    {
     "data": {
      "text/plain": [
       "{(5, 6, 7), 1, 2, 3}"
      ]
     },
     "execution_count": 40,
     "metadata": {},
     "output_type": "execute_result"
    }
   ],
   "source": [
    "s={1,2,3,(5,6,7)}       # didn't throw ERROR, set inside tuple >> stable hash.\n",
    "s"
   ]
  },
  {
   "cell_type": "code",
   "execution_count": 43,
   "id": "9483ec6e-571d-44fc-9b48-acfae0f32cfd",
   "metadata": {},
   "outputs": [
    {
     "data": {
      "text/plain": [
       "{(5, 6, 7), 1, 10, 2, 3}"
      ]
     },
     "execution_count": 43,
     "metadata": {},
     "output_type": "execute_result"
    }
   ],
   "source": [
    "s.add(10)         # to add\n",
    "s"
   ]
  },
  {
   "cell_type": "code",
   "execution_count": 44,
   "id": "b608962d-4ab5-4e2e-91c6-403bd6ee0839",
   "metadata": {},
   "outputs": [
    {
     "data": {
      "text/plain": [
       "1"
      ]
     },
     "execution_count": 44,
     "metadata": {},
     "output_type": "execute_result"
    }
   ],
   "source": [
    "s.pop()          # not compulsory that it will remove last element."
   ]
  },
  {
   "cell_type": "code",
   "execution_count": 50,
   "id": "fe1c415b-ffc5-4d77-85a0-fd4d07f61c99",
   "metadata": {},
   "outputs": [
    {
     "data": {
      "text/plain": [
       "{2, 3, 4, 5}"
      ]
     },
     "execution_count": 50,
     "metadata": {},
     "output_type": "execute_result"
    }
   ],
   "source": [
    "s={1,2,3,4,5}\n",
    "s.remove(1)         # specific element removed\n",
    "s         \n"
   ]
  },
  {
   "cell_type": "code",
   "execution_count": 52,
   "id": "c76faf87-ac61-4ce4-834b-163e833ada9e",
   "metadata": {},
   "outputs": [
    {
     "data": {
      "text/plain": [
       "{2, 3, 4, 5, 'a', 'm', 's', 'u', 'y'}"
      ]
     },
     "execution_count": 52,
     "metadata": {},
     "output_type": "execute_result"
    }
   ],
   "source": [
    "s.update('saumya')      #want to update >> take iterable\n",
    "s"
   ]
  },
  {
   "cell_type": "code",
   "execution_count": 53,
   "id": "455aae01-2b7d-4811-92ea-667fbabecaf1",
   "metadata": {},
   "outputs": [
    {
     "data": {
      "text/plain": [
       "{2, 3, 4, 5, 'a', 'm', 's', 'saumya', 'u', 'y'}"
      ]
     },
     "execution_count": 53,
     "metadata": {},
     "output_type": "execute_result"
    }
   ],
   "source": [
    "s.update(['saumya'])\n",
    "s"
   ]
  },
  {
   "cell_type": "code",
   "execution_count": 54,
   "id": "45c12ec7-bb33-48d2-bc57-fecdd808a752",
   "metadata": {},
   "outputs": [
    {
     "data": {
      "text/plain": [
       "{1, 2, 3, 4, 5, 'a', 'm', 's', 'saumya', 'u', 'y'}"
      ]
     },
     "execution_count": 54,
     "metadata": {},
     "output_type": "execute_result"
    }
   ],
   "source": [
    "s.update([1])    #update an integer then must use []\n",
    "s"
   ]
  },
  {
   "cell_type": "code",
   "execution_count": 55,
   "id": "b5d265b8-1924-49ce-8377-901d12d3b529",
   "metadata": {},
   "outputs": [
    {
     "data": {
      "text/plain": [
       "set()"
      ]
     },
     "execution_count": 55,
     "metadata": {},
     "output_type": "execute_result"
    }
   ],
   "source": [
    "s.clear()\n",
    "s"
   ]
  },
  {
   "cell_type": "code",
   "execution_count": 69,
   "id": "7347dee4-a4f5-462f-9f7f-8970b46a5af1",
   "metadata": {},
   "outputs": [
    {
     "data": {
      "text/plain": [
       "{1, 2, 3, 4, 5, 10, 20, 40}"
      ]
     },
     "execution_count": 69,
     "metadata": {},
     "output_type": "execute_result"
    }
   ],
   "source": [
    "# SET OPERATIONS:\n",
    "\n",
    "S1={1,2,3,4,5}\n",
    "S2={10,20,3,40}\n",
    "S1|S2    # union >> combine all the elements\n"
   ]
  },
  {
   "cell_type": "code",
   "execution_count": 70,
   "id": "d6c19a0d-b9fd-4d6d-a94e-9bc78a359082",
   "metadata": {},
   "outputs": [
    {
     "data": {
      "text/plain": [
       "{3}"
      ]
     },
     "execution_count": 70,
     "metadata": {},
     "output_type": "execute_result"
    }
   ],
   "source": [
    "S1&S2    # intersection >> common"
   ]
  },
  {
   "cell_type": "code",
   "execution_count": 71,
   "id": "f95657d8-af77-4d6f-87ca-244e4ecc88dd",
   "metadata": {},
   "outputs": [
    {
     "data": {
      "text/plain": [
       "{1, 2, 4, 5}"
      ]
     },
     "execution_count": 71,
     "metadata": {},
     "output_type": "execute_result"
    }
   ],
   "source": [
    "S1-S2    # difference >> return first set except duplicate"
   ]
  },
  {
   "cell_type": "code",
   "execution_count": 72,
   "id": "f56838fb-b1cf-4256-832f-5efd2387c469",
   "metadata": {},
   "outputs": [
    {
     "data": {
      "text/plain": [
       "{1, 2, 4, 5, 10, 20, 40}"
      ]
     },
     "execution_count": 72,
     "metadata": {},
     "output_type": "execute_result"
    }
   ],
   "source": [
    "S1^S2     # symetric difference >> return all but remove duplicate"
   ]
  },
  {
   "cell_type": "code",
   "execution_count": null,
   "id": "f9a586a6-c4ed-45c9-9b82-99b4d83b5a26",
   "metadata": {},
   "outputs": [],
   "source": [
    "#Summary:\n",
    "\n",
    "# Tuples are immutable sequences often used for fixed collections of items or as return values from functions.\n",
    "# Sets are mutable collections of unique items used for membership testing, mathematical operations, and eliminating duplicates.\n",
    "\n",
    "#Choosing between tuples and sets depends on whether you need ordered, indexed collections (use tuples) or unordered, unique collections (use sets).\n"
   ]
  },
  {
   "cell_type": "code",
   "execution_count": 79,
   "id": "15e70c10-3209-479e-9655-7ecd191742a6",
   "metadata": {},
   "outputs": [
    {
     "name": "stdout",
     "output_type": "stream",
     "text": [
      "{'name': 'Saumya', 'age': 22, 'city': 'PRATAPGARH,UP'}\n"
     ]
    }
   ],
   "source": [
    "#7 Describe how to add, modify, and delete items in a dictionary with example?\n",
    "\n",
    "\n",
    "\n",
    "\n",
    "#Dictionaries in Python are versatile data structures that allow you to store and manipulate key-value pairs. Here’s how you can add, modify, and\n",
    "    #delete items in a dictionary with examples:\n",
    "    \n",
    "# a: Adding Items:\n",
    "# we can add items to a dictionary by simply assigning a value to a new key. If the key doesn’t exist, it will be created. If it does exist,\n",
    "   #the value will be updated.\n",
    "\n",
    "my_dict = {'name': 'Saumya', 'age': 22}\n",
    "\n",
    "# Add a new item\n",
    "my_dict['city'] = 'PRATAPGARH,UP'\n",
    "print(my_dict)\n",
    "# Output: {'name': 'Saumya', 'age': 22, 'city': 'PRATAPGARH,UP'}"
   ]
  },
  {
   "cell_type": "code",
   "execution_count": 78,
   "id": "cfa052a2-7ac6-45a6-853b-e25bd4b582dc",
   "metadata": {},
   "outputs": [
    {
     "name": "stdout",
     "output_type": "stream",
     "text": [
      "{'name': 'Saumya', 'age': 20, 'city': 'PRATAPGARH,UP'}\n"
     ]
    }
   ],
   "source": [
    "# b: Modifying Items:\n",
    "# we modify an item in a dictionary by assigning a new value to an existing key.\n",
    "\n",
    "my_dict = {'name': 'Saumya', 'age': 22, 'city': 'PRATAPGARH,UP'}\n",
    "\n",
    "# Modify an existing item\n",
    "my_dict['age'] = 20\n",
    "print(my_dict)\n",
    "# Output: {'name': 'Saumya', 'age': 20, 'city': 'PRATAPGARH,UP'}"
   ]
  },
  {
   "cell_type": "code",
   "execution_count": 80,
   "id": "9ef36661-8acd-4a75-a9e7-63ce588149a1",
   "metadata": {},
   "outputs": [
    {
     "name": "stdout",
     "output_type": "stream",
     "text": [
      "{'name': 'Saumya', 'age': 20}\n"
     ]
    }
   ],
   "source": [
    "# c: Deleting Items:\n",
    "#we can delete items from a dictionary using the del statement or the .pop() method.\n",
    "\n",
    "# Example with del:\n",
    "\n",
    "my_dict = {'name': 'Saumya', 'age': 20, 'city': 'PRATAPGARH,UP'}\n",
    "del my_dict['city']\n",
    "print(my_dict)\n",
    "# Output: {'name': 'Saumya', 'age': 20}"
   ]
  },
  {
   "cell_type": "code",
   "execution_count": 81,
   "id": "8f576c51-412f-4f11-bd6c-1787bf715dcf",
   "metadata": {},
   "outputs": [
    {
     "name": "stdout",
     "output_type": "stream",
     "text": [
      "{'name': 'Saumya', 'city': 'PRATAPGARH,UP'}\n",
      "20\n"
     ]
    }
   ],
   "source": [
    "# Example with .pop():\n",
    "\n",
    "my_dict = {'name': 'Saumya', 'age': 20, 'city': 'PRATAPGARH,UP'}\n",
    "age = my_dict.pop('age')\n",
    "print(my_dict)\n",
    "# Output: {'name': 'Saumya', 'city': 'PRATAPGARH,UP'}\n",
    "print(age)\n",
    "# Output: 20"
   ]
  },
  {
   "cell_type": "code",
   "execution_count": 83,
   "id": "fbd21a45-1816-4443-ae39-3e951485980e",
   "metadata": {},
   "outputs": [],
   "source": [
    "# Summary:\n",
    "\n",
    "   # Adding Items: Use dict[key] = value to add a new key-value pair.\n",
    "   # Modifying Items: Use dict[key] = new_value to update the value of an existing key.\n",
    "   # Deleting Items: Use del dict[key] or dict.pop(key) to remove a key-value pair.\n",
    "\n",
    "#These operations make dictionaries flexible and useful for managing data in Python.\n"
   ]
  },
  {
   "cell_type": "code",
   "execution_count": null,
   "id": "c9dacc53-baa9-41f7-9afc-09929dee9c8a",
   "metadata": {},
   "outputs": [],
   "source": [
    "#8 Discuss the importance of dictionary keys being immutable and provide example?\n",
    "\n",
    "\n",
    "#The immutability of dictionary keys in Python is crucial because it ensures the integrity and reliability of dictionaries as hash tables.\n",
    "  \n",
    "# Importance of Immutable Dictionary Keys:\n",
    "\n",
    " # Hashability and Hash Tables:\n",
    " # Dictionary keys must be immutable so that they can be hashed. Hashing allows dictionaries to quickly retrieve values based on keys without having\n",
    "        #to search through the entire data structure. Immutable objects like integers, strings, and tuples are hashable because their hash values remain constant\n",
    "        #over their lifetime.\n",
    "\n",
    "# Key Integrity:\n",
    "# If dictionary keys were mutable (i.e., they could change their hash value or content), it would lead to inconsistencies and potential errors in the dictionary. \n",
    " #For example, if a key's value changes after it's been used to store or retrieve data, it could lead to unpredictable behavior in the dictionary operations.\n",
    "\n",
    " # Consistency in Lookup:\n",
    " # Immutable keys ensure consistency in dictionary operations such as adding, accessing, and deleting elements. Since the hash value of an immutable key \n",
    "        #remains unchanged, the dictionary can reliably locate and manipulate the corresponding value.\n",
    "\n",
    "\n",
    "\n",
    "#Example:\n",
    "#Let's consider an example where mutable keys could cause issues:\n",
    "\n",
    "# Attempt to use a list (mutable) as a dictionary key (which is not allowed)\n",
    "key_list = [1, 2, 3]\n",
    "my_dict = {key_list: 'value'}  # Raises TypeError: unhashable type: 'list'\n",
    "\n",
    "#In this example, Python raises a TypeError because lists are mutable and thus unhashable. This means they cannot be used as dictionary keys because their\n",
    "    #contents could change, affecting the integrity of the dictionary.\n",
    "\n"
   ]
  },
  {
   "cell_type": "code",
   "execution_count": 84,
   "id": "c29bd79e-cd5a-4220-a49c-693a831bfe6a",
   "metadata": {},
   "outputs": [
    {
     "name": "stdout",
     "output_type": "stream",
     "text": [
      "value\n"
     ]
    }
   ],
   "source": [
    "#Now,let’s contrast this with a similar example using a tuple (immutable):\n",
    "\n",
    "# Using a tuple (immutable) as a dictionary key (which is allowed)\n",
    "key_tuple = (1, 2, 3)\n",
    "my_dict = {key_tuple: 'value'}\n",
    "\n",
    "print(my_dict[key_tuple])  # Output: 'value'\n",
    "\n",
    "#Here, key_tuple is immutable, so it can be used as a dictionary key without any issues. The tuple's hash value remains consistent, ensuring that Python can \n",
    "     #accurately locate and retrieve the associated value 'value'."
   ]
  },
  {
   "cell_type": "code",
   "execution_count": null,
   "id": "61212186-8824-400c-8413-7b63c9e30930",
   "metadata": {},
   "outputs": [],
   "source": [
    "#Conclusion:\n",
    "\n",
    "#The immutability of dictionary keys ensures the stability and reliability of Python dictionaries as fundamental data structures,by guaranteeing that keys cannot \n",
    "    #change, Python can efficiently manage dictionary operations using hash tables, providing fast and predictable performance for tasks such as data retrieval\n",
    "     #and manipulation."
   ]
  },
  {
   "cell_type": "code",
   "execution_count": null,
   "id": "4f2b68c7-0805-4686-8abd-4d255b34c54c",
   "metadata": {},
   "outputs": [],
   "source": []
  }
 ],
 "metadata": {
  "kernelspec": {
   "display_name": "Python 3 (ipykernel)",
   "language": "python",
   "name": "python3"
  },
  "language_info": {
   "codemirror_mode": {
    "name": "ipython",
    "version": 3
   },
   "file_extension": ".py",
   "mimetype": "text/x-python",
   "name": "python",
   "nbconvert_exporter": "python",
   "pygments_lexer": "ipython3",
   "version": "3.10.8"
  }
 },
 "nbformat": 4,
 "nbformat_minor": 5
}
